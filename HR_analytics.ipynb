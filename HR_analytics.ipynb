{
 "cells": [
  {
   "cell_type": "code",
   "execution_count": 12,
   "id": "6abad148-7941-45fd-b401-3f2c515dc2a0",
   "metadata": {},
   "outputs": [],
   "source": [
    "import requests\n",
    "\n",
    "url = \"https://api.hh.ru/areas\"\n",
    "token = 'USERKIT9NG8CSBDOK9LV3RS39BA7AGK40HMLRGDUPCVU10B86VF9J6SOIMKS5S36'\n",
    "headers = {'Authorization': 'Bearer ' + token}\n",
    "payload = {}\n",
    "response = requests.request(\"GET\", url, headers=headers, data=payload)\n",
    "areas = response.json()"
   ]
  },
  {
   "cell_type": "code",
   "execution_count": null,
   "id": "9e6dcd9d-5f89-40fc-916c-a46770cdc480",
   "metadata": {
    "scrolled": true
   },
   "outputs": [],
   "source": [
    "print(type(areas[0]))\n",
    "x = areas[0]['areas']\n",
    "for i in range(88):\n",
    "    print(x[i]['id'], x[i]['name'])"
   ]
  },
  {
   "cell_type": "code",
   "execution_count": null,
   "id": "49f17577-7581-4a17-b212-839ca509c6cf",
   "metadata": {},
   "outputs": [],
   "source": [
    "vacancies_url = 'https://api.hh.ru/vacancies' #путь к вакансиям API hh.ru\n",
    "access_token = 'USERKIT9NG8CSBDOK9LV3RS39BA7AGK40HMLRGDUPCVU10B86VF9J6SOIMKS5S36' #OAuth токен\n",
    "    \n",
    "headers = {'Authorization': 'Bearer ' + access_token}\n",
    "payload = {'area': [1255], 'professional_role': [10, 150, 148, 156], 'per_page': 100, 'page': 0}\n",
    "response = requests.get(vacancies_url, headers=headers, params=payload)\n",
    "found = response.json()\n",
    "pages = found['pages']\n",
    "print(pages)"
   ]
  },
  {
   "cell_type": "code",
   "execution_count": null,
   "id": "aec4d2cb-feed-4a86-b87f-7e5dc1483b6a",
   "metadata": {
    "scrolled": true
   },
   "outputs": [],
   "source": [
    "vacancies_url = 'https://api.hh.ru/vacancies' #путь к вакансиям API hh.ru\n",
    "access_token = 'USERKIT9NG8CSBDOK9LV3RS39BA7AGK40HMLRGDUPCVU10B86VF9J6SOIMKS5S36' #OAuth токен\n",
    "\n",
    "my_list = []\n",
    "for i in range(pages):\n",
    "    headers = {'Authorization': 'Bearer ' + access_token}\n",
    "    payload = {'area': [1255], 'professional_role': [10, 150, 148, 156], 'per_page': 100, 'page': i}\n",
    "    response = requests.get(vacancies_url, headers=headers, params=payload)\n",
    "    json_string = response.json()\n",
    "    num = len(json_string['items'])\n",
    "    for i in range(num):\n",
    "        my_list.append(json_string['items'][i]['id'])\n",
    "print(my_list)"
   ]
  },
  {
   "cell_type": "code",
   "execution_count": null,
   "id": "64fb8d37-65fe-449e-891b-0e07d461f1b1",
   "metadata": {
    "scrolled": true
   },
   "outputs": [],
   "source": [
    "for i in my_list:\n",
    "    vacancies_url = 'https://api.hh.ru/vacancies/' + i #путь к вакансиям API hh.ru\n",
    "    access_token = 'USERKIT9NG8CSBDOK9LV3RS39BA7AGK40HMLRGDUPCVU10B86VF9J6SOIMKS5S36' #OAuth токен\n",
    "    headers = {'Authorization': 'Bearer ' + access_token}\n",
    "    response = requests.get(vacancies_url, headers=headers, params=payload)\n",
    "    print(response.text + ', ')"
   ]
  }
 ],
 "metadata": {
  "kernelspec": {
   "display_name": "Python 3 (ipykernel)",
   "language": "python",
   "name": "python3"
  },
  "language_info": {
   "codemirror_mode": {
    "name": "ipython",
    "version": 3
   },
   "file_extension": ".py",
   "mimetype": "text/x-python",
   "name": "python",
   "nbconvert_exporter": "python",
   "pygments_lexer": "ipython3",
   "version": "3.13.0"
  }
 },
 "nbformat": 4,
 "nbformat_minor": 5
}
